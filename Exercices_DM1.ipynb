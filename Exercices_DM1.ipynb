{
 "cells": [
  {
   "cell_type": "markdown",
   "metadata": {},
   "source": [
    "# Exercice String1.py"
   ]
  },
  {
   "cell_type": "code",
   "execution_count": 102,
   "metadata": {},
   "outputs": [],
   "source": [
    "def donuts(count):\n",
    "    if count < 10:\n",
    "        return 'Number of donuts: ' + str(count)\n",
    "    else:\n",
    "        return 'Number of donuts: many'\n",
    "#donuts(int(input('How many donuts do you have ? ')))"
   ]
  },
  {
   "cell_type": "code",
   "execution_count": 103,
   "metadata": {
    "scrolled": true
   },
   "outputs": [],
   "source": [
    "def both_ends(s):\n",
    "    if len(s) < 3:\n",
    "        return ''\n",
    "    else:\n",
    "        return s[0:2] + s[(len(s)-2):len(s)]\n",
    "#both_ends(str(input('Type your word here')))"
   ]
  },
  {
   "cell_type": "code",
   "execution_count": 104,
   "metadata": {},
   "outputs": [],
   "source": [
    "def fix_start(s):\n",
    "    if len(s) <2:\n",
    "        return ''\n",
    "    else:\n",
    "        return s[0]+s[1:len(s)].replace(s[0],'*')\n",
    "#fix_start(str(input('Type your word here')))"
   ]
  },
  {
   "cell_type": "code",
   "execution_count": 173,
   "metadata": {},
   "outputs": [
    {
     "name": "stdout",
     "output_type": "stream",
     "text": [
      "Type your 1st word here HELLO\n",
      "Type your 2nd word here WORLD\n"
     ]
    },
    {
     "data": {
      "text/plain": [
       "'WOLLO HERLD'"
      ]
     },
     "execution_count": 173,
     "metadata": {},
     "output_type": "execute_result"
    }
   ],
   "source": [
    "def mix_up(a, b):\n",
    "    if len(a) < 3 or len(b) < 3:\n",
    "        return \"\"\n",
    "    else:\n",
    "        return str(b[0:2] + a[2:]) + ' ' + str(a[0:2] + b[2:])\n",
    "    \n",
    "#mix_up(str(input('Type your 1st word here ')), str(input( 'Type your 2nd word here ')))"
   ]
  },
  {
   "cell_type": "code",
   "execution_count": 106,
   "metadata": {},
   "outputs": [],
   "source": [
    "def test(got, expected):\n",
    "  if got == expected:\n",
    "    prefix = ' OK '\n",
    "  else:\n",
    "    prefix = '  X '\n",
    "  print ('%s got: %s expected: %s' % (prefix, repr(got), repr(expected)))"
   ]
  },
  {
   "cell_type": "code",
   "execution_count": 313,
   "metadata": {},
   "outputs": [
    {
     "name": "stdout",
     "output_type": "stream",
     "text": [
      "donuts\n",
      " OK  got: 'Number of donuts: 4' expected: 'Number of donuts: 4'\n",
      " OK  got: 'Number of donuts: 9' expected: 'Number of donuts: 9'\n",
      " OK  got: 'Number of donuts: many' expected: 'Number of donuts: many'\n",
      " OK  got: 'Number of donuts: many' expected: 'Number of donuts: many'\n",
      "both_ends\n",
      " OK  got: 'spng' expected: 'spng'\n",
      " OK  got: 'Helo' expected: 'Helo'\n",
      " OK  got: '' expected: ''\n",
      " OK  got: 'xyyz' expected: 'xyyz'\n",
      "fix_start\n",
      " OK  got: 'ba**le' expected: 'ba**le'\n",
      " OK  got: 'a*rdv*rk' expected: 'a*rdv*rk'\n",
      " OK  got: 'goo*le' expected: 'goo*le'\n",
      " OK  got: 'donut' expected: 'donut'\n",
      "mix_up\n",
      " OK  got: 'pox mid' expected: 'pox mid'\n",
      " OK  got: 'dig donner' expected: 'dig donner'\n",
      " OK  got: 'spash gnort' expected: 'spash gnort'\n",
      " OK  got: 'fizzy perm' expected: 'fizzy perm'\n"
     ]
    }
   ],
   "source": [
    "def main():\n",
    "  print ('donuts')\n",
    "  # Each line calls donuts, compares its result to the expected for that call.\n",
    "  test(donuts(4), 'Number of donuts: 4')\n",
    "  test(donuts(9), 'Number of donuts: 9')\n",
    "  test(donuts(10), 'Number of donuts: many')\n",
    "  test(donuts(99), 'Number of donuts: many')\n",
    "\n",
    "  print\n",
    "  print ('both_ends')\n",
    "  test(both_ends('spring'), 'spng')\n",
    "  test(both_ends('Hello'), 'Helo')\n",
    "  test(both_ends('a'), '')\n",
    "  test(both_ends('xyz'), 'xyyz')\n",
    "\n",
    "  \n",
    "  print\n",
    "  print ('fix_start')\n",
    "  test(fix_start('babble'), 'ba**le')\n",
    "  test(fix_start('aardvark'), 'a*rdv*rk')\n",
    "  test(fix_start('google'), 'goo*le')\n",
    "  test(fix_start('donut'), 'donut')\n",
    "\n",
    "  print\n",
    "  print ('mix_up')\n",
    "  test(mix_up('mix', 'pod'), 'pox mid')\n",
    "  test(mix_up('dog', 'dinner'), 'dig donner')\n",
    "  test(mix_up('gnash', 'sport'), 'spash gnort')\n",
    "  test(mix_up('pezzy', 'firm'), 'fizzy perm')\n",
    "\n",
    "if __name__ == '__main__':\n",
    "  main()"
   ]
  },
  {
   "cell_type": "markdown",
   "metadata": {},
   "source": [
    "# Exercice list1.py"
   ]
  },
  {
   "cell_type": "code",
   "execution_count": 126,
   "metadata": {},
   "outputs": [],
   "source": [
    "def match_ends(words):\n",
    "    i = 0\n",
    "    for key in words :\n",
    "        if len(key) >= 2 and key[0] == key[len(key)-1]:\n",
    "            i += 1            \n",
    "    return i\n",
    "\n",
    "#match_ends(input(str('Type your word here ')))"
   ]
  },
  {
   "cell_type": "code",
   "execution_count": 146,
   "metadata": {},
   "outputs": [],
   "source": [
    "def front_x(words):\n",
    "    normal_list = []\n",
    "    x_list = []\n",
    "    for key in words:\n",
    "        if key[0] == 'x':\n",
    "            x_list.append(key)\n",
    "        else:\n",
    "            normal_list.append(key)\n",
    "    \n",
    "    normal_list = sorted(normal_list)\n",
    "    x_list = sorted(x_list)\n",
    "    return x_list + normal_list"
   ]
  },
  {
   "cell_type": "code",
   "execution_count": 168,
   "metadata": {},
   "outputs": [],
   "source": [
    "def tuples_last(tupls):\n",
    "    return tupls[len(tupls)-1]\n",
    "\n",
    "def sort_last(tuples):\n",
    "    tuples_list = []\n",
    "    for tupl in tuples:\n",
    "        tuples_list.append(tupl)\n",
    "    tuples_list = sorted(tuples_list, key=tuples_last)   \n",
    "        \n",
    "    return tuples_list"
   ]
  },
  {
   "cell_type": "code",
   "execution_count": 169,
   "metadata": {},
   "outputs": [],
   "source": [
    "def test(got, expected):\n",
    "  if got == expected:\n",
    "    prefix = ' OK '\n",
    "  else:\n",
    "    prefix = '  X '\n",
    "  print ('%s got: %s expected: %s' % (prefix, repr(got), repr(expected)))"
   ]
  },
  {
   "cell_type": "code",
   "execution_count": 170,
   "metadata": {},
   "outputs": [
    {
     "name": "stdout",
     "output_type": "stream",
     "text": [
      "match_ends\n",
      " OK  got: 3 expected: 3\n",
      " OK  got: 2 expected: 2\n",
      " OK  got: 1 expected: 1\n",
      "front_x\n",
      " OK  got: ['xaa', 'xzz', 'axx', 'bbb', 'ccc'] expected: ['xaa', 'xzz', 'axx', 'bbb', 'ccc']\n",
      " OK  got: ['xaa', 'xcc', 'aaa', 'bbb', 'ccc'] expected: ['xaa', 'xcc', 'aaa', 'bbb', 'ccc']\n",
      " OK  got: ['xanadu', 'xyz', 'aardvark', 'apple', 'mix'] expected: ['xanadu', 'xyz', 'aardvark', 'apple', 'mix']\n",
      "sort_last\n",
      " OK  got: [(2, 1), (3, 2), (1, 3)] expected: [(2, 1), (3, 2), (1, 3)]\n",
      " OK  got: [(3, 1), (1, 2), (2, 3)] expected: [(3, 1), (1, 2), (2, 3)]\n",
      " OK  got: [(2, 2), (1, 3), (3, 4, 5), (1, 7)] expected: [(2, 2), (1, 3), (3, 4, 5), (1, 7)]\n"
     ]
    }
   ],
   "source": [
    "def main():\n",
    "  print ('match_ends')\n",
    "  test(match_ends(['aba', 'xyz', 'aa', 'x', 'bbb']), 3)\n",
    "  test(match_ends(['', 'x', 'xy', 'xyx', 'xx']), 2)\n",
    "  test(match_ends(['aaa', 'be', 'abc', 'hello']), 1)\n",
    "\n",
    "  print\n",
    "  print ('front_x')\n",
    "  test(front_x(['bbb', 'ccc', 'axx', 'xzz', 'xaa']),\n",
    "       ['xaa', 'xzz', 'axx', 'bbb', 'ccc'])\n",
    "  test(front_x(['ccc', 'bbb', 'aaa', 'xcc', 'xaa']),\n",
    "       ['xaa', 'xcc', 'aaa', 'bbb', 'ccc'])\n",
    "  test(front_x(['mix', 'xyz', 'apple', 'xanadu', 'aardvark']),\n",
    "       ['xanadu', 'xyz', 'aardvark', 'apple', 'mix'])\n",
    "\n",
    "       \n",
    "  print\n",
    "  print ('sort_last')\n",
    "  test(sort_last([(1, 3), (3, 2), (2, 1)]),\n",
    "       [(2, 1), (3, 2), (1, 3)])\n",
    "  test(sort_last([(2, 3), (1, 2), (3, 1)]),\n",
    "       [(3, 1), (1, 2), (2, 3)])\n",
    "  test(sort_last([(1, 7), (1, 3), (3, 4, 5), (2, 2)]),\n",
    "       [(2, 2), (1, 3), (3, 4, 5), (1, 7)])\n",
    "\n",
    "\n",
    "if __name__ == '__main__':\n",
    "  main()"
   ]
  },
  {
   "cell_type": "markdown",
   "metadata": {},
   "source": [
    "# Exercice wordcount.py\n"
   ]
  },
  {
   "cell_type": "code",
   "execution_count": 339,
   "metadata": {},
   "outputs": [],
   "source": [
    "import sys\n",
    "\n",
    "# +++your code here+++\n",
    "# Define print_words(filename) and print_top(filename) functions.\n",
    "# You could write a helper utility function that reads a file\n",
    "# and builds and returns a word/count dict for it.\n",
    "# Then print_words() and print_top() can just call the utility function.\n",
    "def words_count(filename):\n",
    "    \n",
    "    #with open('data.txt', 'w') as f:\n",
    "    #    f.write('This is is a simple file.\\n')\n",
    "    \n",
    "\n",
    "    #with open('data.txt') as f:\n",
    "    with open(filename) as f:\n",
    "        content = f.read()\n",
    "    print(content)\n",
    "    \n",
    "    words = content.split(\" \") \n",
    "    dict1 = {}\n",
    "\n",
    "    for word in words:\n",
    "        word = word.lower()\n",
    "        if not word in dict1:\n",
    "            dict1[word] = dict1.get(word, 1)\n",
    "        else:\n",
    "            dict1[word] = dict1[word] + 1\n",
    "\n",
    "    return dict1\n",
    "\n",
    "#words_count('data.txt')"
   ]
  },
  {
   "cell_type": "code",
   "execution_count": 340,
   "metadata": {},
   "outputs": [],
   "source": [
    "def print_words(filename):\n",
    "    dict1 = words_count(filename)\n",
    "    #print(sorted(dict1.keys()))\n",
    "    words = sorted(dict1.keys())\n",
    "    #words = sorted(dict1.items(), key=lambda t: t[1])\n",
    "    print(words)\n",
    "    for word in words:\n",
    "        print (word, dict1[word])\n",
    "    \n",
    "#print_words('data.txt')\n",
    "\n",
    "def print_top(filename):\n",
    "    dict1 = words_count(filename)\n",
    "    items = sorted(dict1.items(), key=get_count, reverse=True)\n",
    "    for i in items[:20]:\n",
    "        print (i[0], i[1])\n",
    "        \n",
    "#print_top('data.txt')"
   ]
  },
  {
   "cell_type": "code",
   "execution_count": 341,
   "metadata": {},
   "outputs": [
    {
     "name": "stdout",
     "output_type": "stream",
     "text": [
      "unknown option: -f\n"
     ]
    },
    {
     "ename": "SystemExit",
     "evalue": "1",
     "output_type": "error",
     "traceback": [
      "An exception has occurred, use %tb to see the full traceback.\n",
      "\u001b[0;31mSystemExit\u001b[0m\u001b[0;31m:\u001b[0m 1\n"
     ]
    }
   ],
   "source": [
    "def main():\n",
    "    if len(sys.argv) != 3:\n",
    "        print ('usage: ./wordcount.py {--count | --topcount} file')\n",
    "        sys.exit(1)\n",
    "\n",
    "    option = sys.argv[1]\n",
    "    filename = sys.argv[2]\n",
    "    if option == '--count':\n",
    "        print_words(filename)\n",
    "    elif option == '--topcount':\n",
    "        print_top(filename)\n",
    "    else:\n",
    "        print ('unknown option: ' + option)\n",
    "        sys.exit(1)\n",
    "\n",
    "if __name__ == '__main__':\n",
    "    main()"
   ]
  },
  {
   "cell_type": "markdown",
   "metadata": {},
   "source": [
    "J'ai testé individuellement chaque fonction avec un petit texte data.txt définit plus haut. \n",
    "Elles fonctionnent mais le main() de vérification ne fonctionne pas."
   ]
  }
 ],
 "metadata": {
  "kernelspec": {
   "display_name": "Python 3",
   "language": "python",
   "name": "python3"
  },
  "language_info": {
   "codemirror_mode": {
    "name": "ipython",
    "version": 3
   },
   "file_extension": ".py",
   "mimetype": "text/x-python",
   "name": "python",
   "nbconvert_exporter": "python",
   "pygments_lexer": "ipython3",
   "version": "3.7.4"
  }
 },
 "nbformat": 4,
 "nbformat_minor": 2
}
